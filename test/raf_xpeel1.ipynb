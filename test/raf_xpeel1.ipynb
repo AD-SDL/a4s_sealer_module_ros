{
 "cells": [
  {
   "cell_type": "code",
   "execution_count": 1,
   "id": "51aaa976",
   "metadata": {},
   "outputs": [],
   "source": [
    "import serial\n",
    "from time import sleep"
   ]
  },
  {
   "cell_type": "code",
   "execution_count": 2,
   "id": "f4ed7305",
   "metadata": {},
   "outputs": [
    {
     "name": "stdout",
     "output_type": "stream",
     "text": [
      "The Port /dev/ttyACM0 is Open \n"
     ]
    }
   ],
   "source": [
    "ser = 0\n",
    "\n",
    "def serial_connection():\n",
    "    global ser\n",
    "    ser = serial.Serial()\n",
    "    ser.baudrate = 9600\n",
    "    ser.port = '/dev/ttyACM0'\n",
    "\n",
    "\n",
    "    #check to see if port is open or closed\n",
    "    if (ser.isOpen() == False):\n",
    "        print ('The Port %s is Open '%ser.portstr)\n",
    "          #timeout in seconds\n",
    "        ser.timeout = 1\n",
    "        ser.writeTimeout = 2\n",
    "        ser.open()\n",
    "    else:\n",
    "        print ('The Port is closed')\n",
    "\n",
    "#call the serial_connection() function\n",
    "serial_connection()"
   ]
  },
  {
   "cell_type": "code",
   "execution_count": 3,
   "id": "e5398b4a",
   "metadata": {},
   "outputs": [
    {
     "data": {
      "text/plain": [
       "Serial<id=0x7f4890971d50, open=True>(port='/dev/ttyACM0', baudrate=9600, bytesize=8, parity='N', stopbits=1, timeout=1, xonxoff=False, rtscts=False, dsrdtr=False)"
      ]
     },
     "execution_count": 3,
     "metadata": {},
     "output_type": "execute_result"
    }
   ],
   "source": [
    "ser"
   ]
  },
  {
   "cell_type": "code",
   "execution_count": 13,
   "id": "57597c78",
   "metadata": {},
   "outputs": [
    {
     "name": "stdout",
     "output_type": "stream",
     "text": [
      "0 0\n",
      "b''\n",
      "0 0\n",
      "b''\n",
      "0 0\n",
      "b''\n",
      "0 0\n",
      "b''\n",
      "0 0\n",
      "b''\n",
      "0 0\n",
      "b''\n",
      "0 0\n",
      "b''\n",
      "0 0\n",
      "b''\n",
      "0 0\n",
      "b''\n",
      "0 0\n",
      "b''\n"
     ]
    }
   ],
   "source": [
    "ser_cmd = b'stat\\r\\n'\n",
    "ser.write(ser_cmd)\n",
    "sleep(.2)\n",
    "# ser_cmd = b'*xpeel:11/r/n'\n",
    "# ser.write(ser_cmd)\n",
    "# #sleep(.2)\n",
    "i=0\n",
    "while i<10:\n",
    "    print(ser.inWaiting(),ser.out_waiting)\n",
    "    response = ser.read_until(expected=b'\\n')\n",
    "    print(response)\n",
    "    i=i+1"
   ]
  },
  {
   "cell_type": "code",
   "execution_count": 7,
   "id": "7ea71188",
   "metadata": {},
   "outputs": [
    {
     "name": "stdout",
     "output_type": "stream",
     "text": [
      "18 0\n",
      "b'\\r*ready:00,00,00\\r\\n'\n",
      "0 0\n",
      "b''\n",
      "0 0\n",
      "b''\n",
      "0 0\n",
      "b''\n",
      "0 0\n",
      "b''\n",
      "0 0\n",
      "b''\n",
      "0 0\n",
      "b''\n",
      "0 0\n",
      "b''\n",
      "0 0\n",
      "b''\n",
      "0 0\n",
      "b''\n"
     ]
    }
   ],
   "source": [
    "i=0\n",
    "while i<10:\n",
    "    print(ser.inWaiting(),ser.out_waiting)\n",
    "    response = ser.read_until(expected=b'\\n')\n",
    "    print(response)\n",
    "    i=i+1"
   ]
  },
  {
   "cell_type": "code",
   "execution_count": 61,
   "id": "cc8808ad",
   "metadata": {},
   "outputs": [
    {
     "name": "stdout",
     "output_type": "stream",
     "text": [
      "b''\n",
      "b''\n",
      "b''\n",
      "b''\n",
      "b''\n"
     ]
    }
   ],
   "source": [
    "i=0\n",
    "while i<5:\n",
    "        response = ser.read_until(expected=b'\\n')\n",
    "        print(response)\n",
    "        i=i+1"
   ]
  },
  {
   "cell_type": "code",
   "execution_count": null,
   "id": "eb5bff19",
   "metadata": {},
   "outputs": [],
   "source": []
  }
 ],
 "metadata": {
  "kernelspec": {
   "display_name": "Python 3 (ipykernel)",
   "language": "python",
   "name": "python3"
  },
  "language_info": {
   "codemirror_mode": {
    "name": "ipython",
    "version": 3
   },
   "file_extension": ".py",
   "mimetype": "text/x-python",
   "name": "python",
   "nbconvert_exporter": "python",
   "pygments_lexer": "ipython3",
   "version": "3.10.4"
  }
 },
 "nbformat": 4,
 "nbformat_minor": 5
}
