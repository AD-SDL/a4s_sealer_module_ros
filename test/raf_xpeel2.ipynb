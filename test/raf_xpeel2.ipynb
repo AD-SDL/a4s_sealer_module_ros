{
 "cells": [
  {
   "cell_type": "code",
   "execution_count": 1,
   "id": "51aaa976",
   "metadata": {},
   "outputs": [],
   "source": [
    "import serial"
   ]
  },
  {
   "cell_type": "code",
   "execution_count": 5,
   "id": "f4ed7305",
   "metadata": {},
   "outputs": [
    {
     "name": "stdout",
     "output_type": "stream",
     "text": [
      "The Port /dev/ttyACM1 is Open \n"
     ]
    }
   ],
   "source": [
    "ser = 0\n",
    "\n",
    "def serial_connection():\n",
    "    global ser\n",
    "    ser = serial.Serial()\n",
    "    ser.baudrate = 9600\n",
    "    ser.port = '/dev/ttyACM1'\n",
    "\n",
    "\n",
    "    #check to see if port is open or closed\n",
    "    if (ser.isOpen() == False):\n",
    "        print ('The Port %s is Open '%ser.portstr)\n",
    "          #timeout in seconds\n",
    "        ser.timeout = 1\n",
    "        ser.writeTimeout = 5\n",
    "        ser.open()\n",
    "    else:\n",
    "        print ('The Port is closed')\n",
    "\n",
    "#call the serial_connection() function\n",
    "serial_connection()"
   ]
  },
  {
   "cell_type": "code",
   "execution_count": 6,
   "id": "e5398b4a",
   "metadata": {},
   "outputs": [
    {
     "data": {
      "text/plain": [
       "Serial<id=0x7f3c10f3ff10, open=True>(port='/dev/ttyACM1', baudrate=9600, bytesize=8, parity='N', stopbits=1, timeout=1, xonxoff=False, rtscts=False, dsrdtr=False)"
      ]
     },
     "execution_count": 6,
     "metadata": {},
     "output_type": "execute_result"
    }
   ],
   "source": [
    "ser"
   ]
  },
  {
   "cell_type": "code",
   "execution_count": 8,
   "id": "57597c78",
   "metadata": {},
   "outputs": [
    {
     "name": "stdout",
     "output_type": "stream",
     "text": [
      "True\n",
      "b'*version\\r\\n'\n"
     ]
    },
    {
     "ename": "SerialTimeoutException",
     "evalue": "Write timeout",
     "output_type": "error",
     "traceback": [
      "\u001b[0;31m---------------------------------------------------------------------------\u001b[0m",
      "\u001b[0;31mSerialTimeoutException\u001b[0m                    Traceback (most recent call last)",
      "Input \u001b[0;32mIn [8]\u001b[0m, in \u001b[0;36m<cell line: 4>\u001b[0;34m()\u001b[0m\n\u001b[1;32m      2\u001b[0m ser_cmd \u001b[38;5;241m=\u001b[39m \u001b[38;5;124mb\u001b[39m\u001b[38;5;124m'\u001b[39m\u001b[38;5;124m*version\u001b[39m\u001b[38;5;130;01m\\r\u001b[39;00m\u001b[38;5;130;01m\\n\u001b[39;00m\u001b[38;5;124m'\u001b[39m\n\u001b[1;32m      3\u001b[0m \u001b[38;5;28mprint\u001b[39m(ser_cmd)\n\u001b[0;32m----> 4\u001b[0m \u001b[43mser\u001b[49m\u001b[38;5;241;43m.\u001b[39;49m\u001b[43mwrite\u001b[49m\u001b[43m(\u001b[49m\u001b[43mser_cmd\u001b[49m\u001b[43m)\u001b[49m\n",
      "File \u001b[0;32m~/miniconda3/envs/raf/lib/python3.10/site-packages/serial/serialposix.py:636\u001b[0m, in \u001b[0;36mSerial.write\u001b[0;34m(self, data)\u001b[0m\n\u001b[1;32m    634\u001b[0m         \u001b[38;5;28;01mbreak\u001b[39;00m\n\u001b[1;32m    635\u001b[0m     \u001b[38;5;28;01mif\u001b[39;00m \u001b[38;5;129;01mnot\u001b[39;00m ready:\n\u001b[0;32m--> 636\u001b[0m         \u001b[38;5;28;01mraise\u001b[39;00m SerialTimeoutException(\u001b[38;5;124m'\u001b[39m\u001b[38;5;124mWrite timeout\u001b[39m\u001b[38;5;124m'\u001b[39m)\n\u001b[1;32m    637\u001b[0m \u001b[38;5;28;01melse\u001b[39;00m:\n\u001b[1;32m    638\u001b[0m     \u001b[38;5;28;01massert\u001b[39;00m timeout\u001b[38;5;241m.\u001b[39mtime_left() \u001b[38;5;129;01mis\u001b[39;00m \u001b[38;5;28;01mNone\u001b[39;00m\n",
      "\u001b[0;31mSerialTimeoutException\u001b[0m: Write timeout"
     ]
    }
   ],
   "source": [
    "print(ser.is_open)\n",
    "ser_cmd = b'*version\\r\\n'\n",
    "print(ser_cmd)\n",
    "ser.write(ser_cmd)\n",
    "# time.sleep(0.5)\n",
    "# ser.readline()\n",
    "# ser.inWaiting()"
   ]
  },
  {
   "cell_type": "code",
   "execution_count": 10,
   "id": "7ea71188",
   "metadata": {},
   "outputs": [],
   "source": [
    "# while True:\n",
    "#         response = ser.read_until(expected=b'\\r')\n",
    "#         print(response)"
   ]
  },
  {
   "cell_type": "code",
   "execution_count": 20,
   "id": "cc8808ad",
   "metadata": {},
   "outputs": [
    {
     "data": {
      "text/plain": [
       "<bound method SerialBase.inWaiting of Serial<id=0x7fd2b83ac130, open=True>(port='/dev/ttyACM1', baudrate=9600, bytesize=8, parity='N', stopbits=1, timeout=None, xonxoff=False, rtscts=False, dsrdtr=False)>"
      ]
     },
     "execution_count": 20,
     "metadata": {},
     "output_type": "execute_result"
    }
   ],
   "source": [
    "ser.inWaiting"
   ]
  },
  {
   "cell_type": "code",
   "execution_count": 19,
   "id": "495e7099",
   "metadata": {},
   "outputs": [
    {
     "ename": "KeyboardInterrupt",
     "evalue": "",
     "output_type": "error",
     "traceback": [
      "\u001b[0;31m---------------------------------------------------------------------------\u001b[0m",
      "\u001b[0;31mKeyboardInterrupt\u001b[0m                         Traceback (most recent call last)",
      "Input \u001b[0;32mIn [19]\u001b[0m, in \u001b[0;36m<cell line: 10>\u001b[0;34m()\u001b[0m\n\u001b[1;32m      9\u001b[0m time\u001b[38;5;241m.\u001b[39msleep(\u001b[38;5;241m0.5\u001b[39m)\n\u001b[1;32m     10\u001b[0m \u001b[38;5;28;01mwhile\u001b[39;00m \u001b[38;5;241m1\u001b[39m:\n\u001b[0;32m---> 11\u001b[0m     \u001b[38;5;28;01mwhile\u001b[39;00m  (\u001b[43mser\u001b[49m\u001b[38;5;241;43m.\u001b[39;49m\u001b[43minWaiting\u001b[49m\u001b[43m(\u001b[49m\u001b[43m)\u001b[49m \u001b[38;5;241m>\u001b[39m \u001b[38;5;241m0\u001b[39m):\n\u001b[1;32m     12\u001b[0m         \u001b[38;5;28;01mtry\u001b[39;00m:\n\u001b[1;32m     13\u001b[0m              inc \u001b[38;5;241m=\u001b[39m ser\u001b[38;5;241m.\u001b[39mreadline()\u001b[38;5;241m.\u001b[39mstrip()\n",
      "File \u001b[0;32m~/miniconda3/envs/raf/lib/python3.10/site-packages/serial/serialutil.py:594\u001b[0m, in \u001b[0;36mSerialBase.inWaiting\u001b[0;34m(self)\u001b[0m\n\u001b[1;32m    593\u001b[0m \u001b[38;5;28;01mdef\u001b[39;00m \u001b[38;5;21minWaiting\u001b[39m(\u001b[38;5;28mself\u001b[39m):\n\u001b[0;32m--> 594\u001b[0m     \u001b[38;5;28;01mreturn\u001b[39;00m \u001b[38;5;28;43mself\u001b[39;49m\u001b[38;5;241;43m.\u001b[39;49m\u001b[43min_waiting\u001b[49m\n",
      "File \u001b[0;32m~/miniconda3/envs/raf/lib/python3.10/site-packages/serial/serialposix.py:545\u001b[0m, in \u001b[0;36mSerial.in_waiting\u001b[0;34m(self)\u001b[0m\n\u001b[1;32m    541\u001b[0m         \u001b[38;5;28mself\u001b[39m\u001b[38;5;241m.\u001b[39mis_open \u001b[38;5;241m=\u001b[39m \u001b[38;5;28;01mFalse\u001b[39;00m\n\u001b[1;32m    543\u001b[0m \u001b[38;5;66;03m#  -  -  -  -  -  -  -  -  -  -  -  -  -  -  -  -  -  -  -  -  -  -  -  -\u001b[39;00m\n\u001b[0;32m--> 545\u001b[0m \u001b[38;5;129m@property\u001b[39m\n\u001b[1;32m    546\u001b[0m \u001b[38;5;28;01mdef\u001b[39;00m \u001b[38;5;21min_waiting\u001b[39m(\u001b[38;5;28mself\u001b[39m):\n\u001b[1;32m    547\u001b[0m     \u001b[38;5;124;03m\"\"\"Return the number of bytes currently in the input buffer.\"\"\"\u001b[39;00m\n\u001b[1;32m    548\u001b[0m     \u001b[38;5;66;03m#~ s = fcntl.ioctl(self.fd, termios.FIONREAD, TIOCM_zero_str)\u001b[39;00m\n",
      "\u001b[0;31mKeyboardInterrupt\u001b[0m: "
     ]
    }
   ],
   "source": [
    "import serial\n",
    "import time\n",
    "import struct\n",
    "import array as arr\n",
    "ser = serial.Serial('/dev/ttyACM1')\n",
    "ser.baudrate = 9600\n",
    "ser.write(b'*version')\n",
    "ser.write(b'\\r\\n')\n",
    "time.sleep(0.5)\n",
    "while 1:\n",
    "    while  (ser.inWaiting() > 0):\n",
    "        try:\n",
    "             inc = ser.readline().strip()\n",
    "             print(inc)\n",
    "        except serial.SerialException:\n",
    "             print(\"no data\")\n",
    "             time.sleep(1)"
   ]
  },
  {
   "cell_type": "code",
   "execution_count": null,
   "id": "f3c6692c",
   "metadata": {},
   "outputs": [],
   "source": []
  }
 ],
 "metadata": {
  "kernelspec": {
   "display_name": "Python 3 (ipykernel)",
   "language": "python",
   "name": "python3"
  },
  "language_info": {
   "codemirror_mode": {
    "name": "ipython",
    "version": 3
   },
   "file_extension": ".py",
   "mimetype": "text/x-python",
   "name": "python",
   "nbconvert_exporter": "python",
   "pygments_lexer": "ipython3",
   "version": "3.10.4"
  }
 },
 "nbformat": 4,
 "nbformat_minor": 5
}
